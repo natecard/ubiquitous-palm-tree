{
 "cells": [
  {
   "cell_type": "code",
   "execution_count": 4,
   "metadata": {},
   "outputs": [
    {
     "name": "stderr",
     "output_type": "stream",
     "text": [
      "Downloading data: 100%|██████████| 157M/157M [00:15<00:00, 9.94MB/s] \n",
      "Generating train split: 100%|██████████| 241787/241787 [00:00<00:00, 651313.40 examples/s]\n"
     ]
    }
   ],
   "source": [
    "import datasets as ds\n",
    "\n",
    "ds_builder = ds.load_dataset_builder('wikimedia/wikipedia', '20231101.simple')\n",
    "dataset = ds.load_dataset('wikimedia/wikipedia', '20231101.simple')"
   ]
  },
  {
   "cell_type": "code",
   "execution_count": 20,
   "metadata": {},
   "outputs": [
    {
     "name": "stderr",
     "output_type": "stream",
     "text": [
      "config.json: 100%|██████████| 760/760 [00:00<00:00, 3.12MB/s]\n",
      "spiece.model: 100%|██████████| 798k/798k [00:00<00:00, 8.81MB/s]\n",
      "tokenizer.json: 100%|██████████| 1.38M/1.38M [00:00<00:00, 6.43MB/s]\n"
     ]
    },
    {
     "data": {
      "text/plain": [
       "{'input_ids': [7823, 1117, 4909, 30341, 17, 10, 1249, 60, 1514, 704, 7521, 11, 19, 1016, 2639, 20, 6202, 6467, 8620, 1702, 19081, 788, 19, 27, 143, 318, 34, 24, 6467, 691, 19, 24, 2301, 25, 18, 2672, 1045, 20, 6202, 19, 2259, 34, 24, 6379, 25, 18, 6202, 681, 11348, 18568, 9, 8435, 2782, 69, 30, 1094, 31, 1514, 704, 7521, 25, 19956, 101, 6113, 1087, 20, 8715, 780, 3539, 11369, 867, 20, 2462, 8011, 25492, 1330, 9, 69, 1188, 45, 5947, 21, 3175, 25, 2462, 8011, 25492, 285, 9, 22380, 11015, 69, 27, 2259, 34, 18, 1016, 1595, 20, 6202, 6467, 8620, 1702, 19081, 788, 19, 24, 2301, 20, 18, 2672, 1045, 19, 2259, 34, 24, 6379, 20, 6202, 681, 11348, 18568, 9, 69, 505, 807, 5928, 22, 1539, 18, 470, 20, 18, 6467, 104, 20, 6202, 9, 69, 30, 18, 89, 22, 1480, 18, 17, 25676, 20, 18, 6467, 6890, 1640, 9, 17931, 4, 3], 'token_type_ids': [0, 0, 0, 0, 0, 0, 0, 0, 0, 0, 0, 0, 0, 0, 0, 0, 0, 0, 0, 0, 0, 0, 0, 0, 0, 0, 0, 0, 0, 0, 0, 0, 0, 0, 0, 0, 0, 0, 0, 0, 0, 0, 0, 0, 0, 0, 0, 0, 0, 0, 0, 0, 0, 0, 0, 0, 0, 0, 0, 0, 0, 0, 0, 0, 0, 0, 0, 0, 0, 0, 0, 0, 0, 0, 0, 0, 0, 0, 0, 0, 0, 0, 0, 0, 0, 0, 0, 0, 0, 0, 0, 0, 0, 0, 0, 0, 0, 0, 0, 0, 0, 0, 0, 0, 0, 0, 0, 0, 0, 0, 0, 0, 0, 0, 0, 0, 0, 0, 0, 0, 0, 0, 0, 0, 0, 0, 0, 0, 0, 0, 0, 0, 0, 0, 0, 0, 0, 0, 0, 0, 0, 0, 0, 0, 0, 0, 0, 0, 0, 0, 0, 0, 0, 0, 0, 2], 'attention_mask': [1, 1, 1, 1, 1, 1, 1, 1, 1, 1, 1, 1, 1, 1, 1, 1, 1, 1, 1, 1, 1, 1, 1, 1, 1, 1, 1, 1, 1, 1, 1, 1, 1, 1, 1, 1, 1, 1, 1, 1, 1, 1, 1, 1, 1, 1, 1, 1, 1, 1, 1, 1, 1, 1, 1, 1, 1, 1, 1, 1, 1, 1, 1, 1, 1, 1, 1, 1, 1, 1, 1, 1, 1, 1, 1, 1, 1, 1, 1, 1, 1, 1, 1, 1, 1, 1, 1, 1, 1, 1, 1, 1, 1, 1, 1, 1, 1, 1, 1, 1, 1, 1, 1, 1, 1, 1, 1, 1, 1, 1, 1, 1, 1, 1, 1, 1, 1, 1, 1, 1, 1, 1, 1, 1, 1, 1, 1, 1, 1, 1, 1, 1, 1, 1, 1, 1, 1, 1, 1, 1, 1, 1, 1, 1, 1, 1, 1, 1, 1, 1, 1, 1, 1, 1, 1, 1]}"
      ]
     },
     "execution_count": 20,
     "metadata": {},
     "output_type": "execute_result"
    }
   ],
   "source": [
    "from transformers import AutoTokenizer\n",
    "\n",
    "tokenizer = AutoTokenizer.from_pretrained('xlnet-base-cased')\n",
    "tokenizer(dataset['train'][-1]['text'])\n"
   ]
  },
  {
   "cell_type": "code",
   "execution_count": null,
   "metadata": {},
   "outputs": [],
   "source": [
    "from collections import defaultdict\n",
    "\n",
    "word_freqs = defaultdict(int)\n",
    "for text in dataset:\n",
    "        words_with_offsets = tokenizer.backend_tokenizer.pre_tokenizer.pre_tokenize_str(text)\n",
    "        new_words = [word for word, offset in words_with_offsets]\n",
    "        for word in new_words:\n",
    "            word_freqs[word] += 1\n",
    "\n",
    "word_freqs    "
   ]
  },
  {
   "cell_type": "code",
   "execution_count": null,
   "metadata": {},
   "outputs": [],
   "source": []
  }
 ],
 "metadata": {
  "kernelspec": {
   "display_name": "Python 3",
   "language": "python",
   "name": "python3"
  },
  "language_info": {
   "codemirror_mode": {
    "name": "ipython",
    "version": 3
   },
   "file_extension": ".py",
   "mimetype": "text/x-python",
   "name": "python",
   "nbconvert_exporter": "python",
   "pygments_lexer": "ipython3",
   "version": "3.10.11"
  }
 },
 "nbformat": 4,
 "nbformat_minor": 2
}
